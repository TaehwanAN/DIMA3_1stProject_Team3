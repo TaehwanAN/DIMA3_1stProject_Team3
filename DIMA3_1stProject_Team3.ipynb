{
 "cells": [
  {
   "cell_type": "code",
   "execution_count": 1,
   "id": "f5ece568-7b19-42c6-a039-d41671979ad0",
   "metadata": {},
   "outputs": [
    {
     "name": "stdout",
     "output_type": "stream",
     "text": [
      "태환님이 입장하였습니다\n"
     ]
    }
   ],
   "source": [
    "print('태환님이 입장하였습니다')"
   ]
  },
  {
   "cell_type": "code",
   "execution_count": 1,
   "id": "fb464760-11e1-441c-90b1-eecf07d23df6",
   "metadata": {},
   "outputs": [
    {
     "name": "stdout",
     "output_type": "stream",
     "text": [
      "지은님이 입장하였습니다\n"
     ]
    }
   ],
   "source": [
    "print('지은님이 입장하였습니다')"
   ]
  }
 ],
 "metadata": {
  "kernelspec": {
   "display_name": "Python 3 (ipykernel)",
   "language": "python",
   "name": "python3"
  },
  "language_info": {
   "codemirror_mode": {
    "name": "ipython",
    "version": 3
   },
   "file_extension": ".py",
   "mimetype": "text/x-python",
   "name": "python",
   "nbconvert_exporter": "python",
   "pygments_lexer": "ipython3",
   "version": "3.11.5"
  }
 },
 "nbformat": 4,
 "nbformat_minor": 5
}
